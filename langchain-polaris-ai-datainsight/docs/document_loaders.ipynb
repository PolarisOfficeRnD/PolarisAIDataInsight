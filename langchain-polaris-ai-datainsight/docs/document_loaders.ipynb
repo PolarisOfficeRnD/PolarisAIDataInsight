{
 "cells": [
  {
   "cell_type": "markdown",
   "metadata": {},
   "source": [
    "---\n",
    "sidebar_label: PolarisAIDataInsight\n",
    "---"
   ]
  },
  {
   "cell_type": "markdown",
   "metadata": {},
   "source": [
    "# PolarisAIDataInsightLoader\n",
    "\n",
    "- TODO: Make sure API reference link is correct.\n",
    "\n",
    "This notebook provides a quick overview for getting started with PolarisAIDataInsight [document loader](https://python.langchain.com/docs/concepts/document_loaders). For detailed documentation of all PolarisAIDataInsightLoader features and configurations head to the [API reference](https://python.langchain.com/v0.2/api_reference/community/document_loaders/langchain_community.document_loaders.langchain_polarisoffice_datainsight_loader.PolarisAIDataInsightLoader.html).\n",
    "\n",
    "## Overview\n",
    "### Integration details\n",
    "\n",
    "- TODO: Fill in table features.\n",
    "- TODO: Remove JS support link if not relevant, otherwise ensure link is correct.\n",
    "- TODO: Make sure API reference links are correct.\n",
    "\n",
    "| Class | Package | Local | Serializable | [JS support](###TODO)|\n",
    "| :--- | :--- | :---: | :---: |  :---: |\n",
    "| [PolarisAIDataInsightLoader](###TODO) | [langchain-polaris-ai-datainsight](###TODO) | ❌ | ❌ | ✅ | \n",
    "### Loader features\n",
    "| Source | Document Lazy Loading | Native Async Support\n",
    "| :---: | :---: | :---: | \n",
    "| PolarisAIDataInsightLoader | ✅ | ❌ | \n",
    "\n",
    "## Setup\n",
    "\n",
    "To access PolarisAIDataInsight document loader you'll need to install the `langchain-polaris-ai-datainsight` integration package, and create a **Polaris AI DataInsight** account and get an API key.\n",
    "\n",
    "### Credentials\n",
    "\n",
    "Head to [here](https://datainsight.polarisoffice.com/documentation/quickstart) to sign up to PolarisAIDataInsight and generate an API key. Once you've done this set the POLARIS_AI_DATA_INSIGHT_API_KEY environment variable:"
   ]
  },
  {
   "cell_type": "code",
   "execution_count": null,
   "metadata": {},
   "outputs": [],
   "source": [
    "import getpass\n",
    "import os\n",
    "\n",
    "os.environ[\"POLARIS_AI_DATA_INSIGHT_API_KEY\"] = getpass.getpass(\"Enter your PolarisAIDataInsight API key: \")"
   ]
  },
  {
   "cell_type": "markdown",
   "metadata": {},
   "source": [
    "### Installation\n",
    "\n",
    "Install **langchain-polaris-ai-datainsight**."
   ]
  },
  {
   "cell_type": "code",
   "execution_count": null,
   "metadata": {},
   "outputs": [],
   "source": [
    "%pip install -qU langchain-polaris-ai-datainsight"
   ]
  },
  {
   "cell_type": "markdown",
   "metadata": {},
   "source": [
    "## Initialization\n",
    "\n",
    "Now we can instantiate our model object and load documents:"
   ]
  },
  {
   "cell_type": "code",
   "execution_count": null,
   "metadata": {},
   "outputs": [],
   "source": [
    "from langchain_polaris_ai_datainsight import PolarisAIDataInsightLoader\n",
    "\n",
    "loader = PolarisAIDataInsightLoader(\n",
    "    file_path=\"/path/to/file\",\n",
    "    mode=\"page\"     # \"element\", \"page\", or \"single\". (default is \"single\") \n",
    ")"
   ]
  },
  {
   "cell_type": "markdown",
   "metadata": {},
   "source": [
    "## Load"
   ]
  },
  {
   "cell_type": "code",
   "execution_count": null,
   "metadata": {},
   "outputs": [],
   "source": [
    "docs = loader.load()\n",
    "docs[0]"
   ]
  },
  {
   "cell_type": "code",
   "execution_count": null,
   "metadata": {},
   "outputs": [],
   "source": [
    "print(docs[0].metadata)"
   ]
  },
  {
   "cell_type": "markdown",
   "metadata": {},
   "source": [
    "## Lazy Load"
   ]
  },
  {
   "cell_type": "code",
   "execution_count": null,
   "metadata": {},
   "outputs": [],
   "source": [
    "page = []\n",
    "for doc in loader.lazy_load():\n",
    "    page.append(doc)\n",
    "\n",
    "print(page[0].metadata)"
   ]
  }
 ],
 "metadata": {
  "kernelspec": {
   "display_name": "Python 3 (ipykernel)",
   "language": "python",
   "name": "python3"
  },
  "language_info": {
   "codemirror_mode": {
    "name": "ipython",
    "version": 3
   },
   "file_extension": ".py",
   "mimetype": "text/x-python",
   "name": "python",
   "nbconvert_exporter": "python",
   "pygments_lexer": "ipython3",
   "version": "3.11.9"
  }
 },
 "nbformat": 4,
 "nbformat_minor": 4
}
